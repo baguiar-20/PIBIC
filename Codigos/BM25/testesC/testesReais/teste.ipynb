{
 "cells": [
  {
   "cell_type": "code",
   "execution_count": 2,
   "metadata": {},
   "outputs": [],
   "source": [
    "doc1 = ['a', 'a', 'b']\n",
    "doc2 = ['a', 'b', 'c']\n",
    "doc3 = ['a', 'a']\n",
    "doc4 = ['b', 'c']\n"
   ]
  },
  {
   "cell_type": "code",
   "execution_count": 2,
   "metadata": {},
   "outputs": [
    {
     "data": {
      "text/plain": [
       "['57_189',\n",
       " '58_194',\n",
       " '99_354',\n",
       " '80_266',\n",
       " '55_174',\n",
       " '151_528',\n",
       " '80_268',\n",
       " '49_116',\n",
       " '107_391',\n",
       " '80_269',\n",
       " '73_252',\n",
       " 'teste.ipynb',\n",
       " '103_382',\n",
       " '98_377',\n",
       " '59_195',\n",
       " '44_102',\n",
       " '82_278',\n",
       " '57_193',\n",
       " '101_356',\n",
       " '.ipynb_checkpoints',\n",
       " '80_271',\n",
       " '81_273',\n",
       " '83_283',\n",
       " '49_124',\n",
       " '74_254',\n",
       " '98_374',\n",
       " '57_191',\n",
       " '102_381',\n",
       " '49_122',\n",
       " '49_114',\n",
       " '97_344',\n",
       " '100_355',\n",
       " '44_98',\n",
       " '106_389',\n",
       " '111_395',\n",
       " '111_396',\n",
       " '98_349',\n",
       " '109_393',\n",
       " '73_253',\n",
       " '102_380']"
      ]
     },
     "execution_count": 2,
     "metadata": {},
     "output_type": "execute_result"
    }
   ],
   "source": [
    "import os\n",
    "os.listdir()\n",
    "#paths = os.listdir(\"44_89/\")"
   ]
  },
  {
   "cell_type": "code",
   "execution_count": null,
   "metadata": {},
   "outputs": [],
   "source": []
  }
 ],
 "metadata": {
  "kernelspec": {
   "display_name": "Python 3",
   "language": "python",
   "name": "python3"
  },
  "language_info": {
   "codemirror_mode": {
    "name": "ipython",
    "version": 3
   },
   "file_extension": ".py",
   "mimetype": "text/x-python",
   "name": "python",
   "nbconvert_exporter": "python",
   "pygments_lexer": "ipython3",
   "version": "3.7.3"
  }
 },
 "nbformat": 4,
 "nbformat_minor": 2
}
