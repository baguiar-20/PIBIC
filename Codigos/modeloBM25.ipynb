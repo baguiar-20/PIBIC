{
 "cells": [
  {
   "cell_type": "code",
   "execution_count": 1,
   "metadata": {},
   "outputs": [],
   "source": [
    "import numpy as np\n",
    "import math as mt\n",
    "import glob, os, math, errno, re, fnmatch\n",
    "from os.path import isfile\n",
    "from re import sub\n",
    "from collections import defaultdict"
   ]
  },
  {
   "cell_type": "code",
   "execution_count": 10,
   "metadata": {},
   "outputs": [
    {
     "name": "stdout",
     "output_type": "stream",
     "text": [
      "3\n"
     ]
    }
   ],
   "source": [
    "x = [(1,2),(3,5)]\n",
    "\n",
    "print(x[1][0])"
   ]
  },
  {
   "cell_type": "code",
   "execution_count": 9,
   "metadata": {},
   "outputs": [],
   "source": [
    "\n",
    "\"\"\"\n",
    "    Módulo com funções que realizam o pré processamento e \n",
    "    e a substituição dos tokens no código\n",
    "\"\"\"\n",
    "\n",
    "def removeEMPTYLINES(s): #remove linhas vazias do código\n",
    "    filtered = filter(lambda x: not re.match(r'^\\s*$', x), s)\n",
    "    frases = []\n",
    "    for i in filtered:\n",
    "        frases.append(i)\n",
    "    return frases\n",
    "\n",
    "def prePROCESSPY(texto): #remove comments and white spaces python\n",
    "    texto = texto.replace(\" \", \" AB \")\n",
    "    texto = sub('\".*?\"', '\" \"',texto)\n",
    "    texto = sub(\"'.*?'\", \"''\",texto)\n",
    "    texto = re.sub(r'(\\\"{2,3}[\\s\\n]*)(?:.*?[\\s\\n]*)*([\\n\\s]*\\\"{2,3})', r'\\1\\2', \n",
    "                   texto, flags=re.MULTILINE)\n",
    "    texto = re.sub(r'#.*', '#',texto)  #comments in python  \n",
    "    return texto\n",
    "\n",
    "def prePROCESSAM(texto): #remove comments and white spaces c, cpp, java\n",
    "    texto = texto.replace(\" \", \" AB \")\n",
    "    texto = sub('\".*?\"', '\" \"',texto)\n",
    "    texto = sub(\"'.*?'\", \"''\",texto)\n",
    "    texto = re.sub(r'//.*', '//',texto)#comments in cpp\n",
    "    return texto\n",
    "\n",
    "def functionTOKENS(text):\n",
    "    with open(\"tokensSYMBOLS.py\") as f:\n",
    "        for line in f:\n",
    "            (symbol, token) = line.split()\n",
    "            text = text.replace(symbol, \" \"+token+\" \")\n",
    "    text = text.lower() #mantém os tokens minúsculos\n",
    "    text = text.split() #divide o code em palavras em lista\n",
    "    return text\n",
    "\n",
    "def functionTOKENS1(text):\n",
    "    tableTOKENS = {}\n",
    "    with open(\"tokensWORDS.py\") as f:\n",
    "        for line in f:\n",
    "            (key, val) = line.split()\n",
    "            tableTOKENS[key] = val\n",
    "    for n, i in enumerate(text): #busca o token da palavra reservada\n",
    "        for x, y in tableTOKENS.items():\n",
    "            if i == x:\n",
    "                text[n] = y\n",
    "    listTOKENS = [value for value in text if value in tableTOKENS.values()]\n",
    "    return listTOKENS"
   ]
  },
  {
   "cell_type": "code",
   "execution_count": 112,
   "metadata": {},
   "outputs": [],
   "source": [
    "def idf(numDoc, freqTermoDoc):\n",
    "    idf = np.log(1+((numDoc-freqTermoDoc) + 0.5)/(freqTermoDoc + 0.5))\n",
    "    return idf\n"
   ]
  },
  {
   "cell_type": "code",
   "execution_count": 125,
   "metadata": {},
   "outputs": [],
   "source": [
    "  def frequency(Doc, Termo):\n",
    "    qtdTermo = 0\n",
    "    for i in range(len(Doc)):\n",
    "        if(Doc[i] == Termo):\n",
    "            qtdTermo += 1\n",
    "    return qtdTermo\n"
   ]
  },
  {
   "cell_type": "code",
   "execution_count": 127,
   "metadata": {},
   "outputs": [],
   "source": [
    "def bm25(Doc, Query ,b = 0.75, K1 = 1):\n",
    "    normaD = len(Doc)\n",
    "    for i in range(len()):\n",
    "        x = f(Q,D)*(K1 + 1)\n",
    "        y = K1 ((1-b)+b*(normaD/avg_doclen))\n",
    "        bm25 = idf[i] * (x/y)\n",
    "        return bm25\n",
    "    "
   ]
  },
  {
   "cell_type": "code",
   "execution_count": 132,
   "metadata": {},
   "outputs": [
    {
     "name": "stdout",
     "output_type": "stream",
     "text": [
      "\n",
      "Name of the file: doc2.txt\n",
      "['#include <stdio.h>\\n', '\\n', 'int main(void){\\n', '    int var =0; /*blablabla*/\\n', '    while(var<5){\\n', '        printf(\"%d\\\\n\", var);\\n', '        var+=1;\\n', '    }\\n', '    return 0;\\n', '}']\n",
      "\n",
      "Name of the file: doc4.txt\n",
      "['#define UNIVERSIDADE \"Pontifícia Universidade Católica do Rio Grande do Sul\"\\n', '\\t// deve-se colocar entre aspas\\n', '\\n', '#include <sdtio.h>\\n', '#include <conio.h>   // necessário para as funções clrscr e getch\\n', '\\n', 'void main (){\\n', '   clrscr();     // Limpa a tela\\n', '   printf(\"%s\", UNIVERSIDADE); // Imprime o nome representado pela constante\\n', '   getch();      // espera que o usuário pressione uma tecla\\n', '}']\n",
      "\n",
      "Name of the file: doc3.txt\n",
      "['// Exemplo de programa em C\\n', '// Isto é uma linha de comentário\\n', '\\n', '#include <stdio.h>\\n', 'void main()\\n', '{ \\n', '   int a;            // declara a variável \"a\"\\n', '   a = 3 + 2;     // soma 3 com 2\\n', '   printf(\"%d\",a);\\n', '}']\n",
      "\n",
      "Name of the file: doc1.txt\n",
      "['#include <stdio.h>\\n', '\\n', 'int main(void){\\n', '    int var;\\n', '    for(var = 0;var <5;var++){\\n', '        printf(\"%d\\\\n\", var);\\n', '    }\\n', '    return 0;\\n', '}']\n"
     ]
    }
   ],
   "source": [
    "import glob\n",
    "\n",
    "for file in glob.glob(\"*.txt\"):\n",
    "    print()\n",
    "    print(\"Name of the file:\", file)\n",
    "    fp = open(file, \"r\", -1, 'utf-8')\n",
    "    codeTEXT = fp.readlines()\n",
    "    print(codeTEXT)"
   ]
  },
  {
   "cell_type": "code",
   "execution_count": 137,
   "metadata": {},
   "outputs": [
    {
     "name": "stdout",
     "output_type": "stream",
     "text": [
      "\n",
      "Name of the file: /home/brendaum/Área de Trabalho/PIBIC/Codigos/codigos_modelos/documentos/doc2.txt\n",
      "['#include <stdio.h>\\n', '\\n', 'int main(void){\\n', '    int var =0; /*blablabla*/\\n', '    while(var<5){\\n', '        printf(\"%d\\\\n\", var);\\n', '        var+=1;\\n', '    }\\n', '    return 0;\\n', '}']\n",
      "\n",
      "Name of the file: /home/brendaum/Área de Trabalho/PIBIC/Codigos/codigos_modelos/documentos/doc4.txt\n",
      "['#define UNIVERSIDADE \"Pontifícia Universidade Católica do Rio Grande do Sul\"\\n', '\\t// deve-se colocar entre aspas\\n', '\\n', '#include <sdtio.h>\\n', '#include <conio.h>   // necessário para as funções clrscr e getch\\n', '\\n', 'void main (){\\n', '   clrscr();     // Limpa a tela\\n', '   printf(\"%s\", UNIVERSIDADE); // Imprime o nome representado pela constante\\n', '   getch();      // espera que o usuário pressione uma tecla\\n', '}']\n",
      "\n",
      "Name of the file: /home/brendaum/Área de Trabalho/PIBIC/Codigos/codigos_modelos/documentos/doc3.txt\n",
      "['// Exemplo de programa em C\\n', '// Isto é uma linha de comentário\\n', '\\n', '#include <stdio.h>\\n', 'void main()\\n', '{ \\n', '   int a;            // declara a variável \"a\"\\n', '   a = 3 + 2;     // soma 3 com 2\\n', '   printf(\"%d\",a);\\n', '}']\n",
      "\n",
      "Name of the file: /home/brendaum/Área de Trabalho/PIBIC/Codigos/codigos_modelos/documentos/doc1.txt\n",
      "['#include <stdio.h>\\n', '\\n', 'int main(void){\\n', '    int var;\\n', '    for(var = 0;var <5;var++){\\n', '        printf(\"%d\\\\n\", var);\\n', '    }\\n', '    return 0;\\n', '}']\n"
     ]
    }
   ],
   "source": [
    "import glob\n",
    "\n",
    "\n",
    "for file in glob.glob(\"/home/brendaum/Área de Trabalho/PIBIC/Codigos/codigos_modelos/documentos/*.txt\"):\n",
    "    print()\n",
    "    print(\"Name of the file:\", file)\n",
    "    fp = open(file, \"r\", -1, 'utf-8')\n",
    "    codeTEXT = fp.readlines()\n",
    "    print(codeTEXT)"
   ]
  },
  {
   "cell_type": "code",
   "execution_count": null,
   "metadata": {},
   "outputs": [],
   "source": []
  }
 ],
 "metadata": {
  "kernelspec": {
   "display_name": "Python 3",
   "language": "python",
   "name": "python3"
  },
  "language_info": {
   "codemirror_mode": {
    "name": "ipython",
    "version": 3
   },
   "file_extension": ".py",
   "mimetype": "text/x-python",
   "name": "python",
   "nbconvert_exporter": "python",
   "pygments_lexer": "ipython3",
   "version": "3.7.3"
  }
 },
 "nbformat": 4,
 "nbformat_minor": 2
}
